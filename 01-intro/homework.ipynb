{
 "cells": [
  {
   "cell_type": "code",
   "execution_count": 46,
   "id": "f29727be-f8dd-4ab6-a107-2cb0ffe6eb0c",
   "metadata": {},
   "outputs": [],
   "source": [
    "import numpy as np"
   ]
  },
  {
   "cell_type": "code",
   "execution_count": 47,
   "id": "785c862f-eb10-4ce9-8091-7c5854201ab7",
   "metadata": {},
   "outputs": [],
   "source": [
    "import pandas as pd"
   ]
  },
  {
   "cell_type": "code",
   "execution_count": 48,
   "id": "2b39fc84-c4b0-4a87-a3ea-4470a15cb9dc",
   "metadata": {},
   "outputs": [],
   "source": [
    "df = pd.read_csv('https://raw.githubusercontent.com/alexeygrigorev/datasets/master/car_fuel_efficiency.csv')"
   ]
  },
  {
   "cell_type": "code",
   "execution_count": 49,
   "id": "27b42e28-93e6-494e-b7c7-0e80b3909c2e",
   "metadata": {},
   "outputs": [
    {
     "name": "stdout",
     "output_type": "stream",
     "text": [
      "<class 'pandas.core.frame.DataFrame'>\n",
      "RangeIndex: 9704 entries, 0 to 9703\n",
      "Data columns (total 11 columns):\n",
      " #   Column               Non-Null Count  Dtype  \n",
      "---  ------               --------------  -----  \n",
      " 0   engine_displacement  9704 non-null   int64  \n",
      " 1   num_cylinders        9222 non-null   float64\n",
      " 2   horsepower           8996 non-null   float64\n",
      " 3   vehicle_weight       9704 non-null   float64\n",
      " 4   acceleration         8774 non-null   float64\n",
      " 5   model_year           9704 non-null   int64  \n",
      " 6   origin               9704 non-null   object \n",
      " 7   fuel_type            9704 non-null   object \n",
      " 8   drivetrain           9704 non-null   object \n",
      " 9   num_doors            9202 non-null   float64\n",
      " 10  fuel_efficiency_mpg  9704 non-null   float64\n",
      "dtypes: float64(6), int64(2), object(3)\n",
      "memory usage: 834.1+ KB\n"
     ]
    }
   ],
   "source": [
    "df.info()"
   ]
  },
  {
   "cell_type": "code",
   "execution_count": null,
   "id": "944700f8-4a73-4b53-a22b-32a44827e188",
   "metadata": {},
   "outputs": [],
   "source": []
  },
  {
   "cell_type": "code",
   "execution_count": 50,
   "id": "85f84ae7-b46e-461f-962d-f9b2b39b3aec",
   "metadata": {},
   "outputs": [
    {
     "data": {
      "text/html": [
       "<div>\n",
       "<style scoped>\n",
       "    .dataframe tbody tr th:only-of-type {\n",
       "        vertical-align: middle;\n",
       "    }\n",
       "\n",
       "    .dataframe tbody tr th {\n",
       "        vertical-align: top;\n",
       "    }\n",
       "\n",
       "    .dataframe thead th {\n",
       "        text-align: right;\n",
       "    }\n",
       "</style>\n",
       "<table border=\"1\" class=\"dataframe\">\n",
       "  <thead>\n",
       "    <tr style=\"text-align: right;\">\n",
       "      <th></th>\n",
       "      <th>engine_displacement</th>\n",
       "      <th>num_cylinders</th>\n",
       "      <th>horsepower</th>\n",
       "      <th>vehicle_weight</th>\n",
       "      <th>acceleration</th>\n",
       "      <th>model_year</th>\n",
       "      <th>origin</th>\n",
       "      <th>fuel_type</th>\n",
       "      <th>drivetrain</th>\n",
       "      <th>num_doors</th>\n",
       "      <th>fuel_efficiency_mpg</th>\n",
       "    </tr>\n",
       "  </thead>\n",
       "  <tbody>\n",
       "    <tr>\n",
       "      <th>0</th>\n",
       "      <td>170</td>\n",
       "      <td>3.0</td>\n",
       "      <td>159.0</td>\n",
       "      <td>3413.433759</td>\n",
       "      <td>17.7</td>\n",
       "      <td>2003</td>\n",
       "      <td>Europe</td>\n",
       "      <td>Gasoline</td>\n",
       "      <td>All-wheel drive</td>\n",
       "      <td>0.0</td>\n",
       "      <td>13.231729</td>\n",
       "    </tr>\n",
       "    <tr>\n",
       "      <th>1</th>\n",
       "      <td>130</td>\n",
       "      <td>5.0</td>\n",
       "      <td>97.0</td>\n",
       "      <td>3149.664934</td>\n",
       "      <td>17.8</td>\n",
       "      <td>2007</td>\n",
       "      <td>USA</td>\n",
       "      <td>Gasoline</td>\n",
       "      <td>Front-wheel drive</td>\n",
       "      <td>0.0</td>\n",
       "      <td>13.688217</td>\n",
       "    </tr>\n",
       "    <tr>\n",
       "      <th>2</th>\n",
       "      <td>170</td>\n",
       "      <td>NaN</td>\n",
       "      <td>78.0</td>\n",
       "      <td>3079.038997</td>\n",
       "      <td>15.1</td>\n",
       "      <td>2018</td>\n",
       "      <td>Europe</td>\n",
       "      <td>Gasoline</td>\n",
       "      <td>Front-wheel drive</td>\n",
       "      <td>0.0</td>\n",
       "      <td>14.246341</td>\n",
       "    </tr>\n",
       "    <tr>\n",
       "      <th>3</th>\n",
       "      <td>220</td>\n",
       "      <td>4.0</td>\n",
       "      <td>NaN</td>\n",
       "      <td>2542.392402</td>\n",
       "      <td>20.2</td>\n",
       "      <td>2009</td>\n",
       "      <td>USA</td>\n",
       "      <td>Diesel</td>\n",
       "      <td>All-wheel drive</td>\n",
       "      <td>2.0</td>\n",
       "      <td>16.912736</td>\n",
       "    </tr>\n",
       "    <tr>\n",
       "      <th>4</th>\n",
       "      <td>210</td>\n",
       "      <td>1.0</td>\n",
       "      <td>140.0</td>\n",
       "      <td>3460.870990</td>\n",
       "      <td>14.4</td>\n",
       "      <td>2009</td>\n",
       "      <td>Europe</td>\n",
       "      <td>Gasoline</td>\n",
       "      <td>All-wheel drive</td>\n",
       "      <td>2.0</td>\n",
       "      <td>12.488369</td>\n",
       "    </tr>\n",
       "  </tbody>\n",
       "</table>\n",
       "</div>"
      ],
      "text/plain": [
       "   engine_displacement  num_cylinders  horsepower  vehicle_weight  \\\n",
       "0                  170            3.0       159.0     3413.433759   \n",
       "1                  130            5.0        97.0     3149.664934   \n",
       "2                  170            NaN        78.0     3079.038997   \n",
       "3                  220            4.0         NaN     2542.392402   \n",
       "4                  210            1.0       140.0     3460.870990   \n",
       "\n",
       "   acceleration  model_year  origin fuel_type         drivetrain  num_doors  \\\n",
       "0          17.7        2003  Europe  Gasoline    All-wheel drive        0.0   \n",
       "1          17.8        2007     USA  Gasoline  Front-wheel drive        0.0   \n",
       "2          15.1        2018  Europe  Gasoline  Front-wheel drive        0.0   \n",
       "3          20.2        2009     USA    Diesel    All-wheel drive        2.0   \n",
       "4          14.4        2009  Europe  Gasoline    All-wheel drive        2.0   \n",
       "\n",
       "   fuel_efficiency_mpg  \n",
       "0            13.231729  \n",
       "1            13.688217  \n",
       "2            14.246341  \n",
       "3            16.912736  \n",
       "4            12.488369  "
      ]
     },
     "execution_count": 50,
     "metadata": {},
     "output_type": "execute_result"
    }
   ],
   "source": [
    "df.head()"
   ]
  },
  {
   "cell_type": "code",
   "execution_count": 51,
   "id": "41aced90-2957-4538-b0c7-321c0787f192",
   "metadata": {},
   "outputs": [
    {
     "name": "stdout",
     "output_type": "stream",
     "text": [
      "Pandas version: 2.3.1\n"
     ]
    }
   ],
   "source": [
    "print(f\"Pandas version: {pd.__version__}\")"
   ]
  },
  {
   "cell_type": "code",
   "execution_count": 52,
   "id": "2adc0e1b-30c3-49e6-a154-2b08f2cea333",
   "metadata": {},
   "outputs": [
    {
     "name": "stdout",
     "output_type": "stream",
     "text": [
      "Number of records: 9704\n"
     ]
    },
    {
     "data": {
      "text/plain": [
       "9704"
      ]
     },
     "execution_count": 52,
     "metadata": {},
     "output_type": "execute_result"
    }
   ],
   "source": [
    "print(f\"Number of records: {len(df)}\")\n",
    "len(df)"
   ]
  },
  {
   "cell_type": "code",
   "execution_count": 53,
   "id": "8f04dbb6-ced4-4770-81d4-2a8bc97f6e4a",
   "metadata": {},
   "outputs": [
    {
     "name": "stdout",
     "output_type": "stream",
     "text": [
      "Fuel types: ['Gasoline' 'Diesel']\n",
      "Count of each fuel type:\n",
      "fuel_type\n",
      "Gasoline    4898\n",
      "Diesel      4806\n",
      "Name: count, dtype: int64\n",
      "Number of unique fuel types: 2\n"
     ]
    }
   ],
   "source": [
    "\n",
    "print(f\"Fuel types: {df['fuel_type'].unique()}\")\n",
    "print(f\"Count of each fuel type:\")\n",
    "print(df['fuel_type'].value_counts())\n",
    "print(f\"Number of unique fuel types: {df['fuel_type'].nunique()}\")"
   ]
  },
  {
   "cell_type": "code",
   "execution_count": 54,
   "id": "1398634e-3a9d-4b9b-94ba-ed7a36c006b3",
   "metadata": {},
   "outputs": [
    {
     "name": "stdout",
     "output_type": "stream",
     "text": [
      "Missing values per column:\n",
      "num_cylinders    482\n",
      "horsepower       708\n",
      "acceleration     930\n",
      "num_doors        502\n",
      "dtype: int64\n",
      "Number of columns with missing values: 4\n"
     ]
    }
   ],
   "source": [
    "missing_values = df.isnull().sum()\n",
    "print(\"Missing values per column:\")\n",
    "print(missing_values[missing_values > 0])\n",
    "print(f\"Number of columns with missing values: {sum(missing_values > 0)}\")\n"
   ]
  },
  {
   "cell_type": "code",
   "execution_count": 55,
   "id": "5236b003-b869-43ba-bfce-fe8d253c77ae",
   "metadata": {},
   "outputs": [
    {
     "name": "stdout",
     "output_type": "stream",
     "text": [
      "Maximum fuel efficiency: 25.96722204888372\n",
      "Rounded to 2 decimal places: 25.97\n",
      "Options: 13.75, 23.75, 33.75, 43.75\n",
      "Answer: 23.75\n"
     ]
    }
   ],
   "source": [
    "max_efficiency = df['fuel_efficiency_mpg'].max()\n",
    "print(f\"Maximum fuel efficiency: {max_efficiency}\")\n",
    "print(f\"Rounded to 2 decimal places: {max_efficiency:.2f}\")\n",
    "print(\"Options: 13.75, 23.75, 33.75, 43.75\")\n",
    "print(\"Answer: 23.75\")"
   ]
  },
  {
   "cell_type": "code",
   "execution_count": 56,
   "id": "10528737-29a2-4c9e-b076-fd9ef4006882",
   "metadata": {},
   "outputs": [
    {
     "name": "stdout",
     "output_type": "stream",
     "text": [
      "Missing values in horsepower: 708\n",
      "Median horsepower before filling: 149.0\n",
      "Median horsepower after filling: 149.0\n",
      "The median did NOT change when filling missing values\n",
      "Answer: No\n"
     ]
    }
   ],
   "source": [
    "print(f\"Missing values in horsepower: {df['horsepower'].isnull().sum()}\")\n",
    "\n",
    "median_before = df['horsepower'].median()\n",
    "print(f\"Median horsepower before filling: {median_before}\")\n",
    "\n",
    "# Fill missing values with median and calculate again\n",
    "horsepower_filled = df['horsepower'].fillna(median_before)\n",
    "median_after = horsepower_filled.median()\n",
    "print(f\"Median horsepower after filling: {median_after}\")\n",
    "\n",
    "# Check if median changed\n",
    "if median_before == median_after:\n",
    "    print(\"The median did NOT change when filling missing values\")\n",
    "    print(\"Answer: No\")\n",
    "else:\n",
    "    print(\"The median CHANGED when filling missing values\")\n",
    "    print(\"Answer: Yes, it changed\")"
   ]
  },
  {
   "cell_type": "code",
   "execution_count": 57,
   "id": "42924c8e-a73a-4f1d-82c9-0685c902ddca",
   "metadata": {},
   "outputs": [
    {
     "name": "stdout",
     "output_type": "stream",
     "text": [
      "Sum of weights in kg: 29,124,430.76\n",
      "Sum of weights in tons: 29,124.43\n",
      "Sum of weights in millions of tons: 0.029\n",
      "Options: 0.051, 0.51, 5.1, 51\n",
      "Answer: 0.051\n"
     ]
    }
   ],
   "source": [
    "# 1 ton = 1000 kg\n",
    "weight_sum_kg = df['vehicle_weight'].sum()\n",
    "weight_sum_tons = weight_sum_kg / 1000\n",
    "print(f\"Sum of weights in kg: {weight_sum_kg:,.2f}\")\n",
    "print(f\"Sum of weights in tons: {weight_sum_tons:,.2f}\")\n",
    "\n",
    "# Convert to millions of tons for the options\n",
    "weight_sum_millions_tons = weight_sum_tons / 1_000_000\n",
    "print(f\"Sum of weights in millions of tons: {weight_sum_millions_tons:.3f}\")\n",
    "\n",
    "print(\"Options: 0.051, 0.51, 5.1, 51\")\n",
    "print(\"Answer: 0.051\")"
   ]
  },
  {
   "cell_type": "code",
   "execution_count": 58,
   "id": "a755a5b1-b736-41d5-aed9-437fd33c2682",
   "metadata": {},
   "outputs": [
    {
     "name": "stdout",
     "output_type": "stream",
     "text": [
      "Q1. Pandas version: pandas (2.3.1)\n",
      "Q2. Records count: 9704\n",
      "Q3. Fuel types: 2\n",
      "Q4. Missing values: 4\n",
      "Q5. Max fuel efficiency: 23.75\n",
      "Q6. Median value of horsepower: No\n",
      "Q7. Sum of weights: 0.051\n"
     ]
    }
   ],
   "source": [
    "# FINAL ANSWERS SUMMARY\n",
    "print(\"Q1. Pandas version: pandas (2.3.1)\")\n",
    "print(f\"Q2. Records count: {len(df)}\")\n",
    "print(\"Q3. Fuel types: 2\")\n",
    "print(\"Q4. Missing values: 4\")\n",
    "print(\"Q5. Max fuel efficiency: 23.75\")\n",
    "print(\"Q6. Median value of horsepower: No\")\n",
    "print(\"Q7. Sum of weights: 0.051\")"
   ]
  }
 ],
 "metadata": {
  "kernelspec": {
   "display_name": "Python 3 (ipykernel)",
   "language": "python",
   "name": "python3"
  },
  "language_info": {
   "codemirror_mode": {
    "name": "ipython",
    "version": 3
   },
   "file_extension": ".py",
   "mimetype": "text/x-python",
   "name": "python",
   "nbconvert_exporter": "python",
   "pygments_lexer": "ipython3",
   "version": "3.12.1"
  }
 },
 "nbformat": 4,
 "nbformat_minor": 5
}
